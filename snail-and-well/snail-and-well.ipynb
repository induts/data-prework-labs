{
 "cells": [
  {
   "cell_type": "markdown",
   "metadata": {},
   "source": [
    "# Snail and well\n",
    "\n",
    "A snail falls at the bottom of a 125 cm well. Each day the snail rises 30 cm. But at night, while sleeping, slides 20 cm because the walls are wet. How many days does it take to escape from the well?\n",
    "\n",
    "TIP: http://puzzles.nigelcoldwell.co.uk/sixtytwo.htm"
   ]
  },
  {
   "cell_type": "markdown",
   "metadata": {},
   "source": [
    "## Solución"
   ]
  },
  {
   "cell_type": "code",
   "execution_count": 2,
   "metadata": {},
   "outputs": [
    {
     "name": "stdout",
     "output_type": "stream",
     "text": [
      "days 10\n",
      " Number of days to climb out of well is 10\n"
     ]
    }
   ],
   "source": [
    "# Assign problem data to variables with representative names\n",
    "# well height, daily advance, night retreat, accumulated distance\n",
    "well_height=125\n",
    "daily_advance=30\n",
    "night_retreat=20\n",
    "\n",
    "\n",
    "# Assign 0 to the variable that represents the solution\n",
    "day=0\n",
    "accum_distance=0\n",
    "   \n",
    "# Write the code that solves the problem\n",
    "while accum_distance<well_height:\n",
    "    accum_distance+=daily_advance\n",
    "#     print(accum_distance,day)\n",
    "    if accum_distance>=well_height:\n",
    "        print('days',day)\n",
    "        break\n",
    "    \n",
    "    accum_distance-=night_retreat\n",
    "#     print(accum_distance,day)\n",
    "    day+=1\n",
    "\n",
    "# Print the result with print('Days =', days)\n",
    "print(f\" Number of days to climb out of well is {day}\")"
   ]
  },
  {
   "cell_type": "markdown",
   "metadata": {},
   "source": [
    "## Goals\n",
    "\n",
    "1. Treatment of variables\n",
    "2. Use of loop **while**\n",
    "3. Use of conditional **if-else**\n",
    "4. Print in console"
   ]
  },
  {
   "cell_type": "markdown",
   "metadata": {},
   "source": [
    "## Bonus\n",
    "The distance traveled by the snail is now defined by a list.\n",
    "```\n",
    "advance_cm = [30, 21, 33, 77, 44, 45, 23, 45, 12, 34, 55]\n",
    "```\n",
    "How long does it take to raise the well?\n",
    "\n",
    "What is its maximum displacement in one day? And its minimum?\n",
    "\n",
    "What is its average speed during the day?\n",
    "\n",
    "What is the standard deviation of its displacement during the day?"
   ]
  },
  {
   "cell_type": "code",
   "execution_count": 18,
   "metadata": {
    "scrolled": false
   },
   "outputs": [
    {
     "name": "stdout",
     "output_type": "stream",
     "text": [
      "30\n",
      "51\n",
      "84\n",
      "161\n",
      "Out of well in 3 days\n"
     ]
    }
   ],
   "source": [
    "# Assign problem data to variables with representative names\n",
    "# well height, daily advance, night retreat, accumulated distance\n",
    "advance_cm = [30, 21, 33, 77, 44, 45, 23, 45, 12, 34, 55]\n",
    "well_height=125\n",
    "day=0\n",
    "daily_gain=0\n",
    "total_dis=0\n",
    "for i in range(len(advance_cm)):\n",
    "    daily_gain+=advance_cm[i]\n",
    "    print(daily_gain)\n",
    "    if daily_gain>=well_height:\n",
    "        print(f\"Out of well in {day} days\")\n",
    "        break\n",
    "    day+=1\n",
    "    \n",
    "    \n",
    "# for i in range(len(advance_cm)-1):\n",
    "#         daily_gain=advance_cm[i]-advance_cm[i+1]\n",
    "#         total_dis+=daily_gain\n",
    "#         print(f\" daily advance on {day} is {daily_gain} and snail is at {total_dis} cm from well botton\")\n",
    "#         if total_dis>=well_height:\n",
    "#             print(f\" Snail escaped well in {day}s\")\n",
    "#         i=i+2\n",
    "#         day+=1\n",
    "\n",
    "        \n",
    "        \n",
    "                \n",
    "\n",
    "# Assign 0 to the variable that represents the solution\n",
    "\n",
    "\n",
    "# Write the code that solves the problem\n",
    "\n",
    "\n",
    "\n",
    "# Print the result with print('Days =', days)\n",
    "\n",
    "\n",
    "# What is its maximum displacement in a day? And its minimum?\n",
    "\n",
    "\n",
    "\n",
    "# What is its average progress?\n",
    "\n",
    "\n",
    "# What is the standard deviation of your displacement during the day?\n",
    "\n"
   ]
  },
  {
   "cell_type": "code",
   "execution_count": null,
   "metadata": {},
   "outputs": [],
   "source": []
  },
  {
   "cell_type": "code",
   "execution_count": null,
   "metadata": {},
   "outputs": [],
   "source": []
  }
 ],
 "metadata": {
  "kernelspec": {
   "display_name": "Python 3",
   "language": "python",
   "name": "python3"
  },
  "language_info": {
   "codemirror_mode": {
    "name": "ipython",
    "version": 3
   },
   "file_extension": ".py",
   "mimetype": "text/x-python",
   "name": "python",
   "nbconvert_exporter": "python",
   "pygments_lexer": "ipython3",
   "version": "3.7.3"
  }
 },
 "nbformat": 4,
 "nbformat_minor": 2
}
