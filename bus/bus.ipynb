{
 "cells": [
  {
   "cell_type": "markdown",
   "metadata": {},
   "source": [
    "# Bus\n",
    "\n",
    "This bus has a passenger entry and exit control system to monitor the number of occupants it carries and thus detect when there is too high a capacity.\n",
    "\n",
    "At each stop the entry and exit of passengers is represented by a tuple consisting of two integer numbers.\n",
    "```\n",
    "bus_stop = (in, out)\n",
    "```\n",
    "The succession of stops is represented by a list of these tuples.\n",
    "```\n",
    "stops = [(in1, out1), (in2, out2), (in3, out3), (in4, out4)]\n",
    "```\n",
    "\n",
    "## Goals:\n",
    "* lists, tuples\n",
    "* while/for loops\n",
    "* minimum, maximum, length\n",
    "* average, standard deviation\n",
    "\n",
    "## Tasks\n",
    "1. Calculate the number of stops.\n",
    "2. Assign to a variable a list whose elements are the number of passengers at each stop (in-out),\n",
    "3. Find the maximum occupation of the bus.\n",
    "4. Calculate the average occupation. And the standard deviation.\n"
   ]
  },
  {
   "cell_type": "code",
   "execution_count": null,
   "metadata": {},
   "outputs": [],
   "source": [
    "# variables\n",
    "stops = [] # This list will be appended \n",
    "max_Stops = 10\n",
    "max_capacity = 30\n",
    "min_capacity = 0\n",
    "current_capacity = 0\n",
    "for i in range(max_Stops):\n",
    "        print(\"Stop:\",i+1)\n",
    "        in_i = int(input(\"Enter number of people entered:\\n \"))\n",
    "        out_i = int(input(\"Enter number of people exited: \"))\n",
    "        current_capacity = current_capacity - out_i\n",
    "        if current_capacity < 0:\n",
    "            print('Error ')\n",
    "            break\n",
    "        current_capacity = current_capacity + in_i\n",
    "        if current_capacity > max_capacity :\n",
    "            print(' Exceeds the maximum capacity')\n",
    "            print(f\" Maximum number of people that can enter is :{in_i-(max_capacity-current_capacity)}\")\n",
    "            current_capacity = max_capacity\n",
    "            in_i = in_i-(max_capacity-current_capacity)\n",
    "        print('Occupancy:',current_capacity)\n",
    "        stops.append((in_i,out_i))\n",
    "        "
   ]
  },
  {
   "cell_type": "code",
   "execution_count": null,
   "metadata": {},
   "outputs": [],
   "source": [
    "# 1. Calculate the number of stops.\n",
    "# max_capacity = 30\n",
    "\n",
    "# stops = []\n",
    "\n",
    "# occupancy = [0]\n",
    "\n",
    "# init_capacity = 0\n",
    "\n",
    "# no_stops = 5\n",
    "\n",
    "# i = 0\n",
    "\n",
    "# try:\n",
    "#     while True:\n",
    "#         print(\"Stop\",i+1)\n",
    "#         in_i = int(input(\"Enter number of people entered:\\n \"))\n",
    "#         out_i = int(input(\"Enter number of people exited: \"))\n",
    "#         if in_i == -1 or out_i == -1:\n",
    "#             break\n",
    "#         stops.append((in_i,out_i))\n",
    "#         occupancy.append(in_i-out_i+occupancy[i])\n",
    "#         if occupancy[i+1] < 0:\n",
    "#             raise Exception(\"invalid occupancy\")\n",
    "#         elif occupancy[i+1] > max_capacity:\n",
    "#             raise Exception(\"Maximum occupancy exceeded\")\n",
    "#         i += 1\n",
    "\n",
    "#     #Stops\n",
    "#     print(\"Stops\", stops)\n",
    "#     #No of stops\n",
    "#     print(\"No of stops =\", len(stops))\n",
    "\n",
    "#     #Occupancy of the bus\n",
    "#     print(\"Occupancy of the bus =\", occupancy)\n",
    "\n",
    "\n",
    "#     #Max Occupancy of the bus\n",
    "#     print(\"Maximum occupancy of the bus =\", max(occupancy))\n",
    "\n",
    "\n",
    "#     #Average occupancy of the bus\n",
    "#     print(\"Average occupancy of the bus =\", sum(occupancy)/len(occupancy))\n",
    "\n",
    "\n",
    "# except Exception as e:\n",
    "#     print(e)\n"
   ]
  },
  {
   "cell_type": "code",
   "execution_count": null,
   "metadata": {},
   "outputs": [],
   "source": [
    "# 2. Assign a variable a list whose elements are the number of passengers in each stop: \n",
    "# Each item depends on the previous item in the list + in - out.\n",
    "\n"
   ]
  },
  {
   "cell_type": "code",
   "execution_count": null,
   "metadata": {},
   "outputs": [],
   "source": [
    "# 3. Find the maximum occupation of the bus.\n",
    "\n"
   ]
  },
  {
   "cell_type": "code",
   "execution_count": null,
   "metadata": {},
   "outputs": [],
   "source": [
    "# 4. Calculate the average occupation. And the standard deviation.\n",
    "\n"
   ]
  },
  {
   "cell_type": "code",
   "execution_count": null,
   "metadata": {},
   "outputs": [],
   "source": []
  }
 ],
 "metadata": {
  "kernelspec": {
   "display_name": "Python 3",
   "language": "python",
   "name": "python3"
  },
  "language_info": {
   "codemirror_mode": {
    "name": "ipython",
    "version": 3
   },
   "file_extension": ".py",
   "mimetype": "text/x-python",
   "name": "python",
   "nbconvert_exporter": "python",
   "pygments_lexer": "ipython3",
   "version": "3.7.3"
  }
 },
 "nbformat": 4,
 "nbformat_minor": 2
}
